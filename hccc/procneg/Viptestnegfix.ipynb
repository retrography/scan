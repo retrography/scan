{
 "cells": [
  {
   "cell_type": "code",
   "execution_count": 792,
   "metadata": {
    "collapsed": true
   },
   "outputs": [],
   "source": [
    "import sys\n",
    "import gi\n",
    "import math\n",
    "gi.require_version('Vips', '8.0')\n",
    "from gi.repository import Vips"
   ]
  },
  {
   "cell_type": "code",
   "execution_count": 793,
   "metadata": {
    "collapsed": false
   },
   "outputs": [],
   "source": [
    "infile = \"/Users/mah/Temp/nico.tiff\"\n",
    "im = Vips.Image.new_from_file(infile)\n"
   ]
  },
  {
   "cell_type": "code",
   "execution_count": null,
   "metadata": {
    "collapsed": true
   },
   "outputs": [],
   "source": [
    "bandfmt = im.BandFmt\n",
    "gamma = 2.15\n",
    "qrange = pow(2, 16) - 1\n",
    "im = im / qrange"
   ]
  },
  {
   "cell_type": "code",
   "execution_count": 788,
   "metadata": {
    "collapsed": false
   },
   "outputs": [],
   "source": [
    "def profile(im):\n",
    "    temp = im.extract_area(10, 10, im.width - 20, im.height - 20).gaussblur(3, min_ampl=0.5)\n",
    "\n",
    "    minimar = temp[0].min()\n",
    "    minimag = temp[1].min()\n",
    "    minimab = temp[2].min()\n",
    "    maximar = temp[0].max()\n",
    "    maximag = temp[1].max()\n",
    "    maximab = temp[2].max()\n",
    "\n",
    "    values = [1, 1, 1, 0, 0, 0]\n",
    "\n",
    "    values = [min((minimar if minimar > 0 else values[0]), values[0]),\n",
    "              min((minimag if minimag > 0 else values[1]), values[1]),\n",
    "              min((minimab if minimab > 0 else values[2]), values[2]),\n",
    "              max((maximar if maximar < 1 else values[3]), values[3]),\n",
    "              max((maximag if maximag < 1 else values[4]), values[4]),\n",
    "              max((maximab if maximab < 1 else values[5]), values[5])]\n",
    "\n",
    "    return [values[0], values[1], values[2],\n",
    "            pow((values[0] / values[3]), (1 / gamma)) * qrange * 0.95,\n",
    "            math.log10(values[4] / values[1]) / math.log10(values[3] / values[0]),\n",
    "            math.log10(values[5] / values[2]) / math.log10(values[3] / values[0])]"
   ]
  },
  {
   "cell_type": "code",
   "execution_count": 789,
   "metadata": {
    "collapsed": false
   },
   "outputs": [],
   "source": [
    "def invert(im, prof):\n",
    "    r = im[0]\n",
    "    g = im[1]\n",
    "    b = im[2]\n",
    "    \n",
    "    r = (prof[0] / r)\n",
    "    g = (prof[1] / g).gamma(exponent = prof[4])\n",
    "    b = (prof[2] / b).gamma(exponent = prof[5])\n",
    "    \n",
    "    im = (r.bandjoin([g, b]))\n",
    "    \n",
    "    im = im.gamma(exponent = gamma)\n",
    "    im = im * (qrange + 1) - prof[3]\n",
    "\n",
    "    return im.cast(bandfmt)"
   ]
  },
  {
   "cell_type": "code",
   "execution_count": 790,
   "metadata": {
    "collapsed": false
   },
   "outputs": [],
   "source": [
    "prof = profile(im)\n",
    "im = invert(im, prof)\n",
    "im.write_to_file(\"/Users/mah/Temp/test.tiff\")"
   ]
  },
  {
   "cell_type": "code",
   "execution_count": 794,
   "metadata": {
    "collapsed": false
   },
   "outputs": [
    {
     "data": {
      "text/plain": [
       "16"
      ]
     },
     "execution_count": 794,
     "metadata": {},
     "output_type": "execute_result"
    }
   ],
   "source": [
    "im.Bbits"
   ]
  },
  {
   "cell_type": "code",
   "execution_count": null,
   "metadata": {
    "collapsed": true
   },
   "outputs": [],
   "source": []
  }
 ],
 "metadata": {
  "kernelspec": {
   "display_name": "Python 3",
   "language": "python",
   "name": "python3"
  },
  "language_info": {
   "codemirror_mode": {
    "name": "ipython",
    "version": 3
   },
   "file_extension": ".py",
   "mimetype": "text/x-python",
   "name": "python",
   "nbconvert_exporter": "python",
   "pygments_lexer": "ipython3",
   "version": "3.5.2"
  }
 },
 "nbformat": 4,
 "nbformat_minor": 1
}
