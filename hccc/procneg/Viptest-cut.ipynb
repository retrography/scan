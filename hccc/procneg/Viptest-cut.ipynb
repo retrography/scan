{
 "cells": [
  {
   "cell_type": "code",
   "execution_count": 164,
   "metadata": {
    "collapsed": true
   },
   "outputs": [],
   "source": [
    "import sys\n",
    "\n",
    "import gi\n",
    "gi.require_version('Vips', '8.0')\n",
    "from gi.repository import Vips\n",
    "import math"
   ]
  },
  {
   "cell_type": "code",
   "execution_count": 165,
   "metadata": {
    "collapsed": true
   },
   "outputs": [],
   "source": [
    "infile = \"/Users/mah/Temp/neg-nb.tiff\"\n",
    "im = Vips.Image.new_from_file(infile)"
   ]
  },
  {
   "cell_type": "code",
   "execution_count": 166,
   "metadata": {
    "collapsed": false
   },
   "outputs": [],
   "source": [
    "r = im[0]\n",
    "g = im[1]\n",
    "b = im[2]\n"
   ]
  },
  {
   "cell_type": "code",
   "execution_count": 167,
   "metadata": {
    "collapsed": false
   },
   "outputs": [],
   "source": [
    "rmax = r.max()\n",
    "gmax = g.max()\n",
    "bmax = b.max()\n",
    "rmin = r.min()\n",
    "gmin = g.min()\n",
    "bmin = b.min()\n",
    "rdif = rmax - rmin\n",
    "gdif = gmax - gmin\n",
    "bdif = bmax - bmin\n",
    "#print(rdif, gdif, bdif)\n",
    "r99 = r.percent(99.9)\n",
    "g99 = g.percent(99.9)\n",
    "b99 = b.percent(99.9)\n",
    "lr=r99-rdif/10\n",
    "lg=g99-gdif/10\n",
    "lb=b99-bdif/10"
   ]
  },
  {
   "cell_type": "code",
   "execution_count": 168,
   "metadata": {
    "collapsed": false
   },
   "outputs": [],
   "source": [
    "target_width = 1\n",
    "target_height = im.height\n",
    "scaleX = float(target_width)/im.width\n",
    "scaleY = float(target_height)/im.height\n",
    "strip = im.resize(scaleX, vscale = scaleY)"
   ]
  },
  {
   "cell_type": "code",
   "execution_count": 169,
   "metadata": {
    "collapsed": false
   },
   "outputs": [],
   "source": [
    "mask = ((strip[0] < lr) & (strip[1] < lg) & (strip[2] < lb)).cast(im.BandFmt, shift = True)\n",
    "mask = mask.resize(1/scaleX, vscale = (1/scaleY))\n",
    "#print(r.max(),r.min())\n",
    "#r = r & mask\n",
    "#b = b & mask\n",
    "#g = g & mask \n",
    "#out = r.bandjoin([g, b])\n",
    "#out = out.cast(im.BandFmt)\n",
    "out = (im & mask).cast(im.BandFmt)\n",
    "out.write_to_file('/Users/mah/Temp/test.tiff')"
   ]
  },
  {
   "cell_type": "markdown",
   "metadata": {
    "collapsed": false
   },
   "source": [
    "Identifying rows containing pure lack or pure white (no film or scanner holder): \n",
    "\n",
    "Take the middle one-third of the image and calculate the minimum and the maximum. Now if in the first or last rows we find averages below the minimum or above the maximum from the middle one-third, we get rid of them!"
   ]
  },
  {
   "cell_type": "code",
   "execution_count": null,
   "metadata": {
    "collapsed": true
   },
   "outputs": [],
   "source": []
  }
 ],
 "metadata": {
  "kernelspec": {
   "display_name": "Python 3",
   "language": "python",
   "name": "python3"
  },
  "language_info": {
   "codemirror_mode": {
    "name": "ipython",
    "version": 3
   },
   "file_extension": ".py",
   "mimetype": "text/x-python",
   "name": "python",
   "nbconvert_exporter": "python",
   "pygments_lexer": "ipython3",
   "version": "3.5.2"
  }
 },
 "nbformat": 4,
 "nbformat_minor": 1
}
