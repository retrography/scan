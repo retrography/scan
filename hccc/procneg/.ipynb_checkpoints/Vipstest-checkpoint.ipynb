{
 "cells": [
  {
   "cell_type": "code",
   "execution_count": 98,
   "metadata": {
    "collapsed": false
   },
   "outputs": [],
   "source": [
    "import sys\n",
    "import gi\n",
    "gi.require_version('Vips', '8.0')\n",
    "from gi.repository import Vips"
   ]
  },
  {
   "cell_type": "code",
   "execution_count": 99,
   "metadata": {
    "collapsed": true
   },
   "outputs": [],
   "source": [
    "def gamma(band, gamma):\n",
    "    return band.gamma(exponent = (1/gamma))"
   ]
  },
  {
   "cell_type": "code",
   "execution_count": 100,
   "metadata": {
    "collapsed": true
   },
   "outputs": [],
   "source": [
    "def shadows(band, lim):\n",
    "    mask = (band <= lim).cast(band.BandFmt, shift = True)\n",
    "    return (65535 * (band / lim * 0.1)) & mask"
   ]
  },
  {
   "cell_type": "code",
   "execution_count": 101,
   "metadata": {
    "collapsed": true
   },
   "outputs": [],
   "source": [
    "def highlights(band, lim):\n",
    "    mask = (band >= lim).cast(band.BandFmt, shift = True)\n",
    "    return (65535 * ((band - lim) / (65536 - lim) * 0.1 + 0.9)) & mask"
   ]
  },
  {
   "cell_type": "code",
   "execution_count": 102,
   "metadata": {
    "collapsed": true
   },
   "outputs": [],
   "source": [
    "def midtones(band, lims):\n",
    "    mask = ((band > lims[0]) & (band < lims[1])).cast(band.BandFmt, shift = True)\n",
    "    band = (band - lims[0]) / (lims[1] - lims[0])\n",
    "    band = gamma(band, 2.15)\n",
    "    return (65535 * (band * 0.8 + 0.1)) & mask    "
   ]
  },
  {
   "cell_type": "code",
   "execution_count": 103,
   "metadata": {
    "collapsed": false
   },
   "outputs": [],
   "source": [
    "def invert(band):\n",
    "    band = band.invert()\n",
    "    lims = (band.percent(5), band.percent(95))\n",
    "    lo = shadows(band, lims[0])\n",
    "    hi = highlights(band, lims[1])\n",
    "    mid = midtones(band, lims)\n",
    "    return (lo.add(mid).add(hi)).cast(band.BandFmt)"
   ]
  },
  {
   "cell_type": "code",
   "execution_count": 104,
   "metadata": {
    "collapsed": false
   },
   "outputs": [],
   "source": [
    "infile = \"/Users/mah/Temp/2015-02-13_235248_color_combo_1.tiff\"\n",
    "im = Vips.Image.new_from_file(infile)\n",
    "if im.bands >= 3:\n",
    "    r = invert(im[0])\n",
    "    g = invert(im[1])\n",
    "    b = invert(im[2])\n",
    "    im = r.bandjoin([g, b])\n",
    "else:\n",
    "    im = invert(im[0])        \n",
    "im.write_to_file(\"/Users/mah/Temp/test2.tiff\")"
   ]
  },
  {
   "cell_type": "code",
   "execution_count": 13,
   "metadata": {
    "collapsed": false
   },
   "outputs": [
    {
     "name": "stdout",
     "output_type": "stream",
     "text": [
      "Object `im.gammma` not found.\n"
     ]
    }
   ],
   "source": []
  },
  {
   "cell_type": "code",
   "execution_count": null,
   "metadata": {
    "collapsed": true
   },
   "outputs": [],
   "source": []
  }
 ],
 "metadata": {
  "kernelspec": {
   "display_name": "Python 3",
   "language": "python",
   "name": "python3"
  },
  "language_info": {
   "codemirror_mode": {
    "name": "ipython",
    "version": 3
   },
   "file_extension": ".py",
   "mimetype": "text/x-python",
   "name": "python",
   "nbconvert_exporter": "python",
   "pygments_lexer": "ipython3",
   "version": "3.5.2"
  }
 },
 "nbformat": 4,
 "nbformat_minor": 1
}
