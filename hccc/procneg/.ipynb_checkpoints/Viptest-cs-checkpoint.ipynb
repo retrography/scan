{
 "cells": [
  {
   "cell_type": "code",
   "execution_count": 209,
   "metadata": {
    "collapsed": true
   },
   "outputs": [],
   "source": [
    "import sys\n",
    "import gi\n",
    "gi.require_version('Vips', '8.0')\n",
    "from gi.repository import Vips"
   ]
  },
  {
   "cell_type": "code",
   "execution_count": 210,
   "metadata": {
    "collapsed": false
   },
   "outputs": [],
   "source": [
    "infile = \"/Users/mah/Temp/p_p_jeez.tif\"\n",
    "im = Vips.Image.new_from_file(infile)\n",
    "\n",
    "#im.write_to_file(\"/Users/mah/Temp/test.tiff\")"
   ]
  },
  {
   "cell_type": "code",
   "execution_count": 211,
   "metadata": {
    "collapsed": false
   },
   "outputs": [],
   "source": [
    "bandfmt = im.BandFmt\n",
    "imh=im.cast(Vips.BandFormat.UCHAR, shift=True)\n",
    "qrange = pow(2,im.Bbits)-1"
   ]
  },
  {
   "cell_type": "code",
   "execution_count": 212,
   "metadata": {
    "collapsed": false
   },
   "outputs": [],
   "source": [
    "h=imh.hist_find()"
   ]
  },
  {
   "cell_type": "code",
   "execution_count": 213,
   "metadata": {
    "collapsed": false
   },
   "outputs": [
    {
     "name": "stdout",
     "output_type": "stream",
     "text": [
      "[[22, 231], [22, 231], [21, 231]]\n"
     ]
    }
   ],
   "source": [
    "w = h.width\n",
    "mp = im.width * im.height\n",
    "threshold = mp * 0.001\n",
    "lims = [[-1,-1],[-1,-1],[-1,-1]]\n",
    "for p in range(w - 2):\n",
    "    for b in range(h.bands):\n",
    "        if lims[b][0] == -1 and (h[b](p, 0)[0] > threshold) and (h[b](p + 1,0)[0] > threshold) and (h[b](p + 2,0)[0] > threshold):\n",
    "            lims[b][0] = p \n",
    "        if lims[b][1] == -1 and (h[b](w - p - 1, 0)[0] > threshold) and (h[b](w - p - 2,0)[0] > threshold) and (h[b](w - p - 3,0)[0] > threshold):\n",
    "            lims[b][1] = (w - p - 1)\n",
    "print(lims)\n",
    "\n",
    "bands=im.bandsplit()\n",
    "for band in range(h.bands):\n",
    "    a = 0\n",
    "    b = pow(2,16) - 1\n",
    "    c = lims[band][0] \n",
    "    d = lims[band][1]\n",
    "    bands[band] = (im[band] - c * 256) * ((b - a)/(256 * (d - c))) + a\n",
    "\n",
    "im = bands[0].bandjoin([bands[1], bands[2]])\n",
    "im = im.cast(bandfmt)"
   ]
  },
  {
   "cell_type": "code",
   "execution_count": 214,
   "metadata": {
    "collapsed": false
   },
   "outputs": [],
   "source": [
    "im.write_to_file(\"/Users/mah/Temp/p_p_p_jeez.tif\")"
   ]
  },
  {
   "cell_type": "code",
   "execution_count": 215,
   "metadata": {
    "collapsed": false
   },
   "outputs": [],
   "source": [
    "    #if ((lims[b][1] == -1) and (h[b](w - p,0)[0] > threshold)\n",
    "         #   lims[b][1] = w - p"
   ]
  },
  {
   "cell_type": "code",
   "execution_count": 191,
   "metadata": {
    "collapsed": false
   },
   "outputs": [
    {
     "data": {
      "text/plain": [
       "0.0028632292644936667"
      ]
     },
     "execution_count": 191,
     "metadata": {},
     "output_type": "execute_result"
    }
   ],
   "source": [
    "10000/3492560"
   ]
  },
  {
   "cell_type": "code",
   "execution_count": 66,
   "metadata": {
    "collapsed": false
   },
   "outputs": [],
   "source": []
  },
  {
   "cell_type": "code",
   "execution_count": 68,
   "metadata": {
    "collapsed": false
   },
   "outputs": [
    {
     "data": {
      "text/plain": [
       "{'r': 2}"
      ]
     },
     "execution_count": 68,
     "metadata": {},
     "output_type": "execute_result"
    }
   ],
   "source": []
  },
  {
   "cell_type": "code",
   "execution_count": null,
   "metadata": {
    "collapsed": true
   },
   "outputs": [],
   "source": []
  }
 ],
 "metadata": {
  "kernelspec": {
   "display_name": "Python 3",
   "language": "python",
   "name": "python3"
  },
  "language_info": {
   "codemirror_mode": {
    "name": "ipython",
    "version": 3
   },
   "file_extension": ".py",
   "mimetype": "text/x-python",
   "name": "python",
   "nbconvert_exporter": "python",
   "pygments_lexer": "ipython3",
   "version": "3.5.2"
  }
 },
 "nbformat": 4,
 "nbformat_minor": 1
}
