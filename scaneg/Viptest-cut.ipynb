{
 "cells": [
  {
   "cell_type": "code",
   "execution_count": 12,
   "metadata": {
    "collapsed": true
   },
   "outputs": [],
   "source": [
    "import sys\n",
    "import gi\n",
    "gi.require_version('Vips', '8.0')\n",
    "from gi.repository import Vips\n",
    "import math"
   ]
  },
  {
   "cell_type": "code",
   "execution_count": 13,
   "metadata": {
    "collapsed": true
   },
   "outputs": [],
   "source": [
    "SHAVE = 0 # calculate a shave pixel number from this shave proportion like shavepix = im.width * SHAVE / 2\n",
    "CSCALE = 10\n",
    "CPERCENT = 99.9\n",
    "CTHRESHOLD = 10\n",
    "BLACK = 2 * 256\n",
    "WHITE = 170 * 256"
   ]
  },
  {
   "cell_type": "code",
   "execution_count": 14,
   "metadata": {
    "collapsed": true
   },
   "outputs": [],
   "source": [
    "infile = \"/Users/mah/Temp/neg-nb.tiff\"\n",
    "ims = [Vips.Image.new_from_file(infile)]"
   ]
  },
  {
   "cell_type": "code",
   "execution_count": 15,
   "metadata": {
    "collapsed": true
   },
   "outputs": [],
   "source": [
    "def shrink(im, x, y):\n",
    "    xscale = 1\n",
    "    yscale = 1\n",
    "    \n",
    "    if x >= 1:\n",
    "        xscale = x / im.width\n",
    "    else:\n",
    "        if x < 1 and x > 0:\n",
    "            xscale = x\n",
    "            \n",
    "    if y >= 1:\n",
    "        yscale = y / im.height\n",
    "    else:\n",
    "        if y < 1 and y > 0:\n",
    "            yscale = y\n",
    "\n",
    "    return im.resize(xscale, vscale = yscale)"
   ]
  },
  {
   "cell_type": "code",
   "execution_count": 16,
   "metadata": {
    "collapsed": false
   },
   "outputs": [],
   "source": [
    "def vtrim(im, levels, lt = False):\n",
    "\n",
    "    \n",
    "    shave = int(im.Yres*2/3)    \n",
    "    stripe = shrink(im, 1, 0)\n",
    "    \n",
    "    mask = Vips.Image.black(stripe.width, stripe.height, bands = 1)\n",
    "    mask = mask.linear([0], [255])\n",
    "    \n",
    "    for i in range(im.Bands):\n",
    "        if lt:\n",
    "            mask = mask & (stripe[i] > levels[i]) \n",
    "        else:\n",
    "            mask = mask & (stripe[i] < levels[i])\n",
    "\n",
    "    for i in range(int(mask.height / 3)):\n",
    "        if mask(0, i)[0] > 0:\n",
    "            break\n",
    "\n",
    "    for j in range(int(mask.height / 3)):\n",
    "        if mask(0, mask.height - j - 1)[0] > 0:\n",
    "            break\n",
    "\n",
    "    if j > 0:\n",
    "        j += shave\n",
    "       \n",
    "    if i > 0:\n",
    "        i += shave\n",
    "\n",
    "    j = mask.height - j - i \n",
    "\n",
    "    im = im.extract_area(0, i, im.width, j)             \n",
    "        \n",
    "    return im"
   ]
  },
  {
   "cell_type": "code",
   "execution_count": 17,
   "metadata": {
    "collapsed": true
   },
   "outputs": [],
   "source": [
    "def htrim(im, levels, lt = False):\n",
    "    shave = int(im.Xres*2/3)    \n",
    "    stripe = shrink(im, 0, 1)\n",
    "    \n",
    "    mask = Vips.Image.black(stripe.width, stripe.height, bands = 1)\n",
    "    mask = mask.linear([0], [255])\n",
    "    \n",
    "    for i in range(im.Bands):\n",
    "        if lt:\n",
    "            mask = mask & (stripe[i] > levels[i]) \n",
    "        else:\n",
    "            mask = mask & (stripe[i] < levels[i])\n",
    "\n",
    "    for i in range(int(mask.width / 3)):\n",
    "        if mask(i, 0)[0] > 0:\n",
    "            break\n",
    "\n",
    "    for j in range(int(mask.width / 3)):\n",
    "        if mask(mask.width - j - 1, 0)[0] > 0:\n",
    "            break\n",
    "\n",
    "    if j > 0:\n",
    "        j += shave\n",
    "       \n",
    "    if i > 0:\n",
    "        i += shave\n",
    "\n",
    "    j = mask.width - j - i \n",
    "\n",
    "    im = im.extract_area(i, 0, j, im.height)            \n",
    "    \n",
    "    return im"
   ]
  },
  {
   "cell_type": "code",
   "execution_count": 23,
   "metadata": {
    "collapsed": true
   },
   "outputs": [],
   "source": [
    "def prune(im):\n",
    "    im = vtrim(im, [BLACK for b in range(im.Bands)], lt = True)\n",
    "    im = htrim(im, [BLACK for b in range(im.Bands)], lt = True)\n",
    "    im = vtrim(im, [WHITE for b in range(im.Bands)])\n",
    "    im = htrim(im, [WHITE for b in range(im.Bands)])\n",
    "    #print(im.width, im.height)\n",
    "    return im\n",
    "def prune2(im):\n",
    "    im = vtrim(im, [base for b in range(im.Bands)])\n",
    "    im = htrim(im, [base for b in range(im.Bands)])"
   ]
  },
  {
   "cell_type": "code",
   "execution_count": 24,
   "metadata": {
    "collapsed": true
   },
   "outputs": [],
   "source": [
    "def filmbase(im):\n",
    "    return [int(band.percent(CPERCENT) - band.deviate() / 2) for band in im.bandsplit()]"
   ]
  },
  {
   "cell_type": "code",
   "execution_count": 53,
   "metadata": {
    "collapsed": false
   },
   "outputs": [],
   "source": [
    "def split(im):\n",
    "    regions = []\n",
    "    crops = []\n",
    "    regionstart = None\n",
    "\n",
    "    base = filmbase(im)\n",
    "    stripe = shrink(im, 1, 0)\n",
    "    mask = ((stripe[0] < base[0]) & (stripe[1] < base[1]) & (stripe[2] < base[2])) \n",
    "    \n",
    "    #mask.write_to_file('/Users/mah/Temp/out/mask.tiff')\n",
    "    mask = shrink(mask, 0, 1 / CSCALE)\n",
    "    \n",
    "    for j in range(mask.height):\n",
    "        if (mask(0, j)[0] == 0) or (j == mask.height):\n",
    "            if regionstart:\n",
    "                if j - regionstart >= (0.7 * im.width / CSCALE):\n",
    "                    regions.append((regionstart * CSCALE, min((j - regionstart) * CSCALE, im.height)))\n",
    "                regionstart = None\n",
    "        else:        \n",
    "            if not(regionstart):\n",
    "                regionstart = j\n",
    "    for (y, l) in regions:\n",
    "        crops.append(im.extract_area(0, y, im.width, l))\n",
    "    return crops"
   ]
  },
  {
   "cell_type": "code",
   "execution_count": 54,
   "metadata": {
    "collapsed": false
   },
   "outputs": [],
   "source": [
    "def getframes(ims):\n",
    "    frames = []\n",
    "    for im in ims:\n",
    "        im = prune(im)\n",
    "        frames += split(im)\n",
    "    return frames"
   ]
  },
  {
   "cell_type": "code",
   "execution_count": 55,
   "metadata": {
    "collapsed": false
   },
   "outputs": [],
   "source": [
    "frames = getframes(ims)\n",
    "for f in range(len(frames)):\n",
    "    frames[f].write_to_file('/Users/mah/Temp/out/test_' + str(f) + '.tiff')"
   ]
  },
  {
   "cell_type": "code",
   "execution_count": 25,
   "metadata": {
    "collapsed": false
   },
   "outputs": [
    {
     "name": "stderr",
     "output_type": "stream",
     "text": [
      "/usr/local/lib/python3.5/site-packages/gi/overrides/Vips.py:373: Warning: value \"-214748363\" of type 'gint' is invalid or out of range for property 'max-tiles' of type 'gint'\n",
      "  op2 = Vips.cache_operation_build(op)\n",
      "/usr/local/lib/python3.5/site-packages/gi/overrides/Vips.py:373: Warning: value \"inf\" of type 'gdouble' is invalid or out of range for property 'yshrink' of type 'gdouble'\n",
      "  op2 = Vips.cache_operation_build(op)\n"
     ]
    },
    {
     "ename": "Error",
     "evalue": "Error calling operator resize.\n  reducev: parameter yshrink not set\n",
     "traceback": [
      "\u001b[0;31m---------------------------------------------------------------------------\u001b[0m",
      "\u001b[0;31mError\u001b[0m                                     Traceback (most recent call last)",
      "\u001b[0;32m<ipython-input-25-916870ca36a6>\u001b[0m in \u001b[0;36m<module>\u001b[0;34m()\u001b[0m\n\u001b[1;32m      2\u001b[0m \u001b[0mbase\u001b[0m \u001b[0;34m=\u001b[0m \u001b[0mfilmbase\u001b[0m\u001b[0;34m(\u001b[0m\u001b[0mim\u001b[0m\u001b[0;34m)\u001b[0m\u001b[0;34m\u001b[0m\u001b[0m\n\u001b[1;32m      3\u001b[0m \u001b[0mim\u001b[0m \u001b[0;34m=\u001b[0m \u001b[0mprune\u001b[0m\u001b[0;34m(\u001b[0m\u001b[0mim\u001b[0m\u001b[0;34m)\u001b[0m\u001b[0;34m\u001b[0m\u001b[0m\n\u001b[0;32m----> 4\u001b[0;31m \u001b[0mim\u001b[0m \u001b[0;34m=\u001b[0m \u001b[0mprune2\u001b[0m\u001b[0;34m(\u001b[0m\u001b[0mim\u001b[0m\u001b[0;34m)\u001b[0m\u001b[0;34m\u001b[0m\u001b[0m\n\u001b[0m\u001b[1;32m      5\u001b[0m \u001b[0mim\u001b[0m\u001b[0;34m.\u001b[0m\u001b[0mwrite_to_file\u001b[0m\u001b[0;34m(\u001b[0m\u001b[0;34m'/Users/mah/Temp/out/test.tiff'\u001b[0m\u001b[0;34m)\u001b[0m\u001b[0;34m\u001b[0m\u001b[0m\n",
      "\u001b[0;32m<ipython-input-23-5e83204e30c2>\u001b[0m in \u001b[0;36mprune2\u001b[0;34m(im)\u001b[0m\n\u001b[1;32m      8\u001b[0m \u001b[0;32mdef\u001b[0m \u001b[0mprune2\u001b[0m\u001b[0;34m(\u001b[0m\u001b[0mim\u001b[0m\u001b[0;34m)\u001b[0m\u001b[0;34m:\u001b[0m\u001b[0;34m\u001b[0m\u001b[0m\n\u001b[1;32m      9\u001b[0m     \u001b[0mim\u001b[0m \u001b[0;34m=\u001b[0m \u001b[0mvtrim\u001b[0m\u001b[0;34m(\u001b[0m\u001b[0mim\u001b[0m\u001b[0;34m,\u001b[0m \u001b[0;34m[\u001b[0m\u001b[0mbase\u001b[0m \u001b[0;32mfor\u001b[0m \u001b[0mb\u001b[0m \u001b[0;32min\u001b[0m \u001b[0mrange\u001b[0m\u001b[0;34m(\u001b[0m\u001b[0mim\u001b[0m\u001b[0;34m.\u001b[0m\u001b[0mBands\u001b[0m\u001b[0;34m)\u001b[0m\u001b[0;34m]\u001b[0m\u001b[0;34m)\u001b[0m\u001b[0;34m\u001b[0m\u001b[0m\n\u001b[0;32m---> 10\u001b[0;31m     \u001b[0mim\u001b[0m \u001b[0;34m=\u001b[0m \u001b[0mhtrim\u001b[0m\u001b[0;34m(\u001b[0m\u001b[0mim\u001b[0m\u001b[0;34m,\u001b[0m \u001b[0;34m[\u001b[0m\u001b[0mbase\u001b[0m \u001b[0;32mfor\u001b[0m \u001b[0mb\u001b[0m \u001b[0;32min\u001b[0m \u001b[0mrange\u001b[0m\u001b[0;34m(\u001b[0m\u001b[0mim\u001b[0m\u001b[0;34m.\u001b[0m\u001b[0mBands\u001b[0m\u001b[0;34m)\u001b[0m\u001b[0;34m]\u001b[0m\u001b[0;34m)\u001b[0m\u001b[0;34m\u001b[0m\u001b[0m\n\u001b[0m",
      "\u001b[0;32m<ipython-input-17-01f73705244d>\u001b[0m in \u001b[0;36mhtrim\u001b[0;34m(im, levels, lt)\u001b[0m\n\u001b[1;32m      1\u001b[0m \u001b[0;32mdef\u001b[0m \u001b[0mhtrim\u001b[0m\u001b[0;34m(\u001b[0m\u001b[0mim\u001b[0m\u001b[0;34m,\u001b[0m \u001b[0mlevels\u001b[0m\u001b[0;34m,\u001b[0m \u001b[0mlt\u001b[0m \u001b[0;34m=\u001b[0m \u001b[0;32mFalse\u001b[0m\u001b[0;34m)\u001b[0m\u001b[0;34m:\u001b[0m\u001b[0;34m\u001b[0m\u001b[0m\n\u001b[1;32m      2\u001b[0m     \u001b[0mshave\u001b[0m \u001b[0;34m=\u001b[0m \u001b[0mint\u001b[0m\u001b[0;34m(\u001b[0m\u001b[0mim\u001b[0m\u001b[0;34m.\u001b[0m\u001b[0mXres\u001b[0m\u001b[0;34m*\u001b[0m\u001b[0;36m2\u001b[0m\u001b[0;34m/\u001b[0m\u001b[0;36m3\u001b[0m\u001b[0;34m)\u001b[0m\u001b[0;34m\u001b[0m\u001b[0m\n\u001b[0;32m----> 3\u001b[0;31m     \u001b[0mstripe\u001b[0m \u001b[0;34m=\u001b[0m \u001b[0mshrink\u001b[0m\u001b[0;34m(\u001b[0m\u001b[0mim\u001b[0m\u001b[0;34m,\u001b[0m \u001b[0;36m0\u001b[0m\u001b[0;34m,\u001b[0m \u001b[0;36m1\u001b[0m\u001b[0;34m)\u001b[0m\u001b[0;34m\u001b[0m\u001b[0m\n\u001b[0m\u001b[1;32m      4\u001b[0m \u001b[0;34m\u001b[0m\u001b[0m\n\u001b[1;32m      5\u001b[0m     \u001b[0mmask\u001b[0m \u001b[0;34m=\u001b[0m \u001b[0mVips\u001b[0m\u001b[0;34m.\u001b[0m\u001b[0mImage\u001b[0m\u001b[0;34m.\u001b[0m\u001b[0mblack\u001b[0m\u001b[0;34m(\u001b[0m\u001b[0mstripe\u001b[0m\u001b[0;34m.\u001b[0m\u001b[0mwidth\u001b[0m\u001b[0;34m,\u001b[0m \u001b[0mstripe\u001b[0m\u001b[0;34m.\u001b[0m\u001b[0mheight\u001b[0m\u001b[0;34m,\u001b[0m \u001b[0mbands\u001b[0m \u001b[0;34m=\u001b[0m \u001b[0;36m1\u001b[0m\u001b[0;34m)\u001b[0m\u001b[0;34m\u001b[0m\u001b[0m\n",
      "\u001b[0;32m<ipython-input-15-025eb8cca822>\u001b[0m in \u001b[0;36mshrink\u001b[0;34m(im, x, y)\u001b[0m\n\u001b[1;32m     15\u001b[0m             \u001b[0myscale\u001b[0m \u001b[0;34m=\u001b[0m \u001b[0my\u001b[0m\u001b[0;34m\u001b[0m\u001b[0m\n\u001b[1;32m     16\u001b[0m \u001b[0;34m\u001b[0m\u001b[0m\n\u001b[0;32m---> 17\u001b[0;31m     \u001b[0;32mreturn\u001b[0m \u001b[0mim\u001b[0m\u001b[0;34m.\u001b[0m\u001b[0mresize\u001b[0m\u001b[0;34m(\u001b[0m\u001b[0mxscale\u001b[0m\u001b[0;34m,\u001b[0m \u001b[0mvscale\u001b[0m \u001b[0;34m=\u001b[0m \u001b[0myscale\u001b[0m\u001b[0;34m)\u001b[0m\u001b[0;34m\u001b[0m\u001b[0m\n\u001b[0m",
      "\u001b[0;32m/usr/local/lib/python3.5/site-packages/gi/overrides/Vips.py\u001b[0m in \u001b[0;36mcall_function\u001b[0;34m(*args, **kwargs)\u001b[0m\n\u001b[1;32m    649\u001b[0m         \u001b[0;34m@\u001b[0m\u001b[0madd_doc\u001b[0m\u001b[0;34m(\u001b[0m\u001b[0mgenerate_docstring\u001b[0m\u001b[0;34m(\u001b[0m\u001b[0mname\u001b[0m\u001b[0;34m)\u001b[0m\u001b[0;34m)\u001b[0m\u001b[0;34m\u001b[0m\u001b[0m\n\u001b[1;32m    650\u001b[0m         \u001b[0;32mdef\u001b[0m \u001b[0mcall_function\u001b[0m\u001b[0;34m(\u001b[0m\u001b[0;34m*\u001b[0m\u001b[0margs\u001b[0m\u001b[0;34m,\u001b[0m \u001b[0;34m**\u001b[0m\u001b[0mkwargs\u001b[0m\u001b[0;34m)\u001b[0m\u001b[0;34m:\u001b[0m\u001b[0;34m\u001b[0m\u001b[0m\n\u001b[0;32m--> 651\u001b[0;31m             \u001b[0;32mreturn\u001b[0m \u001b[0m_call_instance\u001b[0m\u001b[0;34m(\u001b[0m\u001b[0mself\u001b[0m\u001b[0;34m,\u001b[0m \u001b[0mname\u001b[0m\u001b[0;34m,\u001b[0m \u001b[0margs\u001b[0m\u001b[0;34m,\u001b[0m \u001b[0mkwargs\u001b[0m\u001b[0;34m)\u001b[0m\u001b[0;34m\u001b[0m\u001b[0m\n\u001b[0m\u001b[1;32m    652\u001b[0m \u001b[0;34m\u001b[0m\u001b[0m\n\u001b[1;32m    653\u001b[0m         \u001b[0;32mreturn\u001b[0m \u001b[0mcall_function\u001b[0m\u001b[0;34m\u001b[0m\u001b[0m\n",
      "\u001b[0;32m/usr/local/lib/python3.5/site-packages/gi/overrides/Vips.py\u001b[0m in \u001b[0;36m_call_instance\u001b[0;34m(self, name, args, kwargs)\u001b[0m\n\u001b[1;32m    424\u001b[0m \u001b[0;31m# here from getattr ... try to run the attr as a method\u001b[0m\u001b[0;34m\u001b[0m\u001b[0;34m\u001b[0m\u001b[0m\n\u001b[1;32m    425\u001b[0m \u001b[0;32mdef\u001b[0m \u001b[0m_call_instance\u001b[0m\u001b[0;34m(\u001b[0m\u001b[0mself\u001b[0m\u001b[0;34m,\u001b[0m \u001b[0mname\u001b[0m\u001b[0;34m,\u001b[0m \u001b[0margs\u001b[0m\u001b[0;34m,\u001b[0m \u001b[0mkwargs\u001b[0m\u001b[0;34m)\u001b[0m\u001b[0;34m:\u001b[0m\u001b[0;34m\u001b[0m\u001b[0m\n\u001b[0;32m--> 426\u001b[0;31m     \u001b[0;32mreturn\u001b[0m \u001b[0m_call_base\u001b[0m\u001b[0;34m(\u001b[0m\u001b[0mname\u001b[0m\u001b[0;34m,\u001b[0m \u001b[0margs\u001b[0m\u001b[0;34m,\u001b[0m \u001b[0mkwargs\u001b[0m\u001b[0;34m,\u001b[0m \u001b[0mself\u001b[0m\u001b[0;34m)\u001b[0m\u001b[0;34m\u001b[0m\u001b[0m\n\u001b[0m\u001b[1;32m    427\u001b[0m \u001b[0;34m\u001b[0m\u001b[0m\n\u001b[1;32m    428\u001b[0m \u001b[0;34m@\u001b[0m\u001b[0mclassmethod\u001b[0m\u001b[0;34m\u001b[0m\u001b[0m\n",
      "\u001b[0;32m/usr/local/lib/python3.5/site-packages/gi/overrides/Vips.py\u001b[0m in \u001b[0;36m_call_base\u001b[0;34m(name, required, optional, self, option_string)\u001b[0m\n\u001b[1;32m    374\u001b[0m     \u001b[0mlogger\u001b[0m\u001b[0;34m.\u001b[0m\u001b[0mdebug\u001b[0m\u001b[0;34m(\u001b[0m\u001b[0;34m'_call_base got op2 %s'\u001b[0m \u001b[0;34m%\u001b[0m \u001b[0mop2\u001b[0m\u001b[0;34m)\u001b[0m\u001b[0;34m\u001b[0m\u001b[0m\n\u001b[1;32m    375\u001b[0m     \u001b[0;32mif\u001b[0m \u001b[0mop2\u001b[0m \u001b[0;34m==\u001b[0m \u001b[0;32mNone\u001b[0m\u001b[0;34m:\u001b[0m\u001b[0;34m\u001b[0m\u001b[0m\n\u001b[0;32m--> 376\u001b[0;31m         \u001b[0;32mraise\u001b[0m \u001b[0mError\u001b[0m\u001b[0;34m(\u001b[0m\u001b[0;34m'Error calling operator %s.'\u001b[0m \u001b[0;34m%\u001b[0m \u001b[0mname\u001b[0m\u001b[0;34m)\u001b[0m\u001b[0;34m\u001b[0m\u001b[0m\n\u001b[0m\u001b[1;32m    377\u001b[0m \u001b[0;34m\u001b[0m\u001b[0m\n\u001b[1;32m    378\u001b[0m     \u001b[0;31m# rescan args if op2 is different from op\u001b[0m\u001b[0;34m\u001b[0m\u001b[0;34m\u001b[0m\u001b[0m\n",
      "\u001b[0;31mError\u001b[0m: Error calling operator resize.\n  reducev: parameter yshrink not set\n"
     ],
     "output_type": "error"
    }
   ],
   "source": [
    "im = ims[0]\n",
    "base = filmbase(im)\n",
    "im = prune(im)\n",
    "im = prune2(im)\n",
    "im.write_to_file('/Users/mah/Temp/out/test.tiff')"
   ]
  },
  {
   "cell_type": "markdown",
   "metadata": {
    "collapsed": false
   },
   "source": [
    "TODO: Identifying rows containing pure lack or pure white (no film or scanner holder): \n",
    "\n",
    "Take the middle one-third of the image and calculate the minimum and the maximum. Now if in the first or last rows we find averages below the minimum or above the maximum from the middle one-third, we get rid of them!"
   ]
  },
  {
   "cell_type": "markdown",
   "metadata": {},
   "source": [
    "TODO: Rotate the image and run the same cut process to trim the empty negative area on the sides"
   ]
  }
 ],
 "metadata": {
  "kernelspec": {
   "display_name": "Python 3",
   "language": "python",
   "name": "python3"
  },
  "language_info": {
   "codemirror_mode": {
    "name": "ipython",
    "version": 3.0
   },
   "file_extension": ".py",
   "mimetype": "text/x-python",
   "name": "python",
   "nbconvert_exporter": "python",
   "pygments_lexer": "ipython3",
   "version": "3.5.2"
  }
 },
 "nbformat": 4,
 "nbformat_minor": 0
}