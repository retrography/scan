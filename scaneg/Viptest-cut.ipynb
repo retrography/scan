{
 "cells": [
  {
   "cell_type": "code",
   "execution_count": 45,
   "metadata": {
    "collapsed": true
   },
   "outputs": [],
   "source": [
    "import sys\n",
    "import gi\n",
    "gi.require_version('Vips', '8.0')\n",
    "from gi.repository import Vips\n",
    "import math"
   ]
  },
  {
   "cell_type": "code",
   "execution_count": 46,
   "metadata": {
    "collapsed": true
   },
   "outputs": [],
   "source": [
    "SHAVE = 0 # calculate a shave pixel number from this shave proportion like shavepix = im.width * SHAVE / 2\n",
    "CSCALE = 10\n",
    "CPERCENT = 99.9\n",
    "CTHRESHOLD = 10\n",
    "BLACK = 2 * 256\n",
    "WHITE = 170 * 256"
   ]
  },
  {
   "cell_type": "code",
   "execution_count": 47,
   "metadata": {
    "collapsed": true
   },
   "outputs": [],
   "source": [
    "infile = \"/Users/mah/Temp/neg-nb.tiff\"\n",
    "ims = [Vips.Image.new_from_file(infile)]"
   ]
  },
  {
   "cell_type": "code",
   "execution_count": 48,
   "metadata": {
    "collapsed": true
   },
   "outputs": [],
   "source": [
    "def shrink(im, x, y):\n",
    "    xscale = 1\n",
    "    yscale = 1\n",
    "    \n",
    "    if x >= 1:\n",
    "        xscale = x / im.width\n",
    "    else:\n",
    "        if x < 1 and x > 0:\n",
    "            xscale = x\n",
    "            \n",
    "    if y >= 1:\n",
    "        yscale = y / im.height\n",
    "    else:\n",
    "        if y < 1 and y > 0:\n",
    "            yscale = y\n",
    "\n",
    "    return im.resize(xscale, vscale = yscale)"
   ]
  },
  {
   "cell_type": "code",
   "execution_count": 49,
   "metadata": {
    "collapsed": false
   },
   "outputs": [],
   "source": [
    "def vtrim(im, levels, lt = False):\n",
    "\n",
    "    \n",
    "    shave = int(im.Yres*2/3)    \n",
    "    stripe = shrink(im, 1, 0)\n",
    "    \n",
    "    mask = Vips.Image.black(stripe.width, stripe.height, bands = 1)\n",
    "    mask = mask.linear([0], [255])\n",
    "    \n",
    "    for i in range(im.Bands):\n",
    "        if lt:\n",
    "            mask = mask & (stripe[i] > levels[i]) \n",
    "        else:\n",
    "            mask = mask & (stripe[i] < levels[i])\n",
    "\n",
    "    for i in range(int(mask.height / 3)):\n",
    "        if mask(0, i)[0] > 0:\n",
    "            break\n",
    "\n",
    "    for j in range(int(mask.height / 3)):\n",
    "        if mask(0, mask.height - j - 1)[0] > 0:\n",
    "            break\n",
    "\n",
    "    if j > 0:\n",
    "        j += shave\n",
    "       \n",
    "    if i > 0:\n",
    "        i += shave\n",
    "\n",
    "    j = mask.height - j - i \n",
    "\n",
    "    im = im.extract_area(0, i, im.width, j)             \n",
    "        \n",
    "    return im"
   ]
  },
  {
   "cell_type": "code",
   "execution_count": 50,
   "metadata": {
    "collapsed": true
   },
   "outputs": [],
   "source": [
    "def htrim(im, levels, lt = False):\n",
    "    shave = int(im.Xres*2/3)    \n",
    "    stripe = shrink(im, 0, 1)\n",
    "    \n",
    "    mask = Vips.Image.black(stripe.width, stripe.height, bands = 1)\n",
    "    mask = mask.linear([0], [255])\n",
    "    \n",
    "    for i in range(im.Bands):\n",
    "        if lt:\n",
    "            mask = mask & (stripe[i] > levels[i]) \n",
    "        else:\n",
    "            mask = mask & (stripe[i] < levels[i])\n",
    "\n",
    "    for i in range(int(mask.width / 3)):\n",
    "        if mask(i, 0)[0] > 0:\n",
    "            break\n",
    "\n",
    "    for j in range(int(mask.width / 3)):\n",
    "        if mask(mask.width - j - 1, 0)[0] > 0:\n",
    "            break\n",
    "\n",
    "    if j > 0:\n",
    "        j += shave\n",
    "       \n",
    "    if i > 0:\n",
    "        i += shave\n",
    "\n",
    "    j = mask.width - j - i \n",
    "\n",
    "    im = im.extract_area(i, 0, j, im.height)            \n",
    "    \n",
    "    return im"
   ]
  },
  {
   "cell_type": "code",
   "execution_count": 51,
   "metadata": {
    "collapsed": true
   },
   "outputs": [],
   "source": [
    "def prune(im):\n",
    "    im = vtrim(im, [BLACK for b in range(im.Bands)], lt = True)\n",
    "    im = htrim(im, [BLACK for b in range(im.Bands)], lt = True)\n",
    "    im = vtrim(im, [WHITE for b in range(im.Bands)])\n",
    "    im = htrim(im, [WHITE for b in range(im.Bands)])\n",
    "    #im = trim(im, [base for b in range(im.Bands)], horizontal = True)\n",
    "    #print(im.width, im.height)\n",
    "    return im"
   ]
  },
  {
   "cell_type": "code",
   "execution_count": 52,
   "metadata": {
    "collapsed": true
   },
   "outputs": [],
   "source": [
    "def filmbase(im):\n",
    "    return [int(band.percent(CPERCENT) - band.deviate() / 2) for band in im.bandsplit()]"
   ]
  },
  {
   "cell_type": "code",
   "execution_count": 53,
   "metadata": {
    "collapsed": false
   },
   "outputs": [],
   "source": [
    "def split(im):\n",
    "    regions = []\n",
    "    crops = []\n",
    "    regionstart = None\n",
    "\n",
    "    base = filmbase(im)\n",
    "    stripe = shrink(im, 1, 0)\n",
    "    mask = ((stripe[0] < base[0]) & (stripe[1] < base[1]) & (stripe[2] < base[2])) \n",
    "    \n",
    "    #mask.write_to_file('/Users/mah/Temp/out/mask.tiff')\n",
    "    mask = shrink(mask, 0, 1 / CSCALE)\n",
    "    \n",
    "    for j in range(mask.height):\n",
    "        if (mask(0, j)[0] == 0) or (j == mask.height):\n",
    "            if regionstart:\n",
    "                if j - regionstart >= (0.7 * im.width / CSCALE):\n",
    "                    regions.append((regionstart * CSCALE, min((j - regionstart) * CSCALE, im.height)))\n",
    "                regionstart = None\n",
    "        else:        \n",
    "            if not(regionstart):\n",
    "                regionstart = j\n",
    "    for (y, l) in regions:\n",
    "        crops.append(im.extract_area(0, y, im.width, l))\n",
    "    return crops"
   ]
  },
  {
   "cell_type": "code",
   "execution_count": 54,
   "metadata": {
    "collapsed": false
   },
   "outputs": [],
   "source": [
    "def getframes(ims):\n",
    "    frames = []\n",
    "    for im in ims:\n",
    "        im = prune(im)\n",
    "        frames += split(im)\n",
    "    return frames"
   ]
  },
  {
   "cell_type": "code",
   "execution_count": 55,
   "metadata": {
    "collapsed": false
   },
   "outputs": [],
   "source": [
    "frames = getframes(ims)\n",
    "for f in range(len(frames)):\n",
    "    frames[f].write_to_file('/Users/mah/Temp/out/test_' + str(f) + '.tiff')"
   ]
  },
  {
   "cell_type": "markdown",
   "metadata": {
    "collapsed": false
   },
   "source": [
    "TODO: Identifying rows containing pure lack or pure white (no film or scanner holder): \n",
    "\n",
    "Take the middle one-third of the image and calculate the minimum and the maximum. Now if in the first or last rows we find averages below the minimum or above the maximum from the middle one-third, we get rid of them!"
   ]
  },
  {
   "cell_type": "markdown",
   "metadata": {},
   "source": [
    "TODO: Rotate the image and run the same cut process to trim the empty negative area on the sides"
   ]
  }
 ],
 "metadata": {
  "kernelspec": {
   "display_name": "Python 3",
   "language": "python",
   "name": "python3"
  },
  "language_info": {
   "codemirror_mode": {
    "name": "ipython",
    "version": 3
   },
   "file_extension": ".py",
   "mimetype": "text/x-python",
   "name": "python",
   "nbconvert_exporter": "python",
   "pygments_lexer": "ipython3",
   "version": "3.5.2"
  }
 },
 "nbformat": 4,
 "nbformat_minor": 1
}
