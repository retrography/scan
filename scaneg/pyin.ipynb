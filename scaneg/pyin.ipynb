{
 "cells": [
  {
   "cell_type": "code",
   "execution_count": 17,
   "metadata": {
    "collapsed": true
   },
   "outputs": [],
   "source": [
    "import pyinsane.abstract as pyinsane\n",
    "\n",
    "devices = pyinsane.get_devices()\n"
   ]
  },
  {
   "cell_type": "code",
   "execution_count": 18,
   "metadata": {
    "collapsed": false
   },
   "outputs": [],
   "source": [
    "device = None\n",
    "assert(len(devices) > 0)\n",
    "for d in devices:\n",
    "    if d.name == 'pixma:04A9190D':\n",
    "        device = d"
   ]
  },
  {
   "cell_type": "code",
   "execution_count": 19,
   "metadata": {
    "collapsed": false
   },
   "outputs": [],
   "source": [
    "device.options['resolution'].value = 1200\n",
    "device.options['mode'].value = 'Color'\n",
    "device.options['source'].value = 'Transparency Unit'"
   ]
  },
  {
   "cell_type": "code",
   "execution_count": 20,
   "metadata": {
    "collapsed": false
   },
   "outputs": [],
   "source": [
    "device.options['tl-y'].value = int(25.8*65536)\n",
    "device.options['tl-x'].value = int(80.6*65536)\n",
    "device.options['br-y'].value = int(219.2*65536)+int(25.8*65536)\n",
    "device.options['br-x'].value = int(56.2*65536)+int(80.6*65536)"
   ]
  },
  {
   "cell_type": "code",
   "execution_count": 21,
   "metadata": {
    "collapsed": false
   },
   "outputs": [],
   "source": [
    "scan_session = device.scan(multiple=False)\n",
    "try:\n",
    "    while True:\n",
    "        scan_session.scan.read()\n",
    "except EOFError:\n",
    "    pass\n",
    "image = scan_session.images[0]"
   ]
  },
  {
   "cell_type": "code",
   "execution_count": 28,
   "metadata": {
    "collapsed": false
   },
   "outputs": [
    {
     "data": {
      "text/plain": [
       "65536"
      ]
     },
     "execution_count": 28,
     "metadata": {},
     "output_type": "execute_result"
    }
   ],
   "source": [
    "int(device.options['br-x'].constraint[1] / 216.069)"
   ]
  },
  {
   "cell_type": "code",
   "execution_count": 23,
   "metadata": {
    "collapsed": true
   },
   "outputs": [],
   "source": [
    "image.save('/Users/mah/Temp/sc.tiff')"
   ]
  },
  {
   "cell_type": "code",
   "execution_count": null,
   "metadata": {
    "collapsed": false
   },
   "outputs": [],
   "source": [
    "try:\n",
    "    import src.abstract as pyinsane\n",
    "except ImportError:\n",
    "    import pyinsane.abstract as pyinsane\n",
    "\n",
    "if __name__ == \"__main__\":\n",
    "    for device in pyinsane.get_devices():\n",
    "        print(\"%s\" % (str(device)))\n",
    "\n",
    "        for opt in device.options.values():\n",
    "            print(\"  Option: %s\" % (opt.name))\n",
    "            print(\"    Title: %s\" % (opt.title))\n",
    "            print(\"    Desc: %s\" % (opt.desc))\n",
    "            print(\"    Type: %s\" % (str(opt.val_type)))\n",
    "            print(\"    Unit: %s\" % (str(opt.unit)))\n",
    "            print(\"    Size: %d\" % (opt.size))\n",
    "            print(\"    Capabilities: %s\" % (str(opt.capabilities)))\n",
    "            print(\"    Constraint type: %s\" % (str(opt.constraint_type)))\n",
    "            print(\"    Constraint: %s\" % (str(opt.constraint)))\n",
    "            try:\n",
    "                print(\"    Value: %s\" % (str(opt.value)))\n",
    "            except pyinsane.SaneException as exc:\n",
    "                # Some scanner allow changing a value, but not reading it.\n",
    "                # For instance Canon Lide 110 allow setting the resolution,\n",
    "                # but not reading it\n",
    "                print(\"    Value: Failed to get the value: %s\" % str(exc))\n",
    "\n",
    "        print(\"\")"
   ]
  }
 ],
 "metadata": {
  "kernelspec": {
   "display_name": "Python 3",
   "language": "python",
   "name": "python3"
  },
  "language_info": {
   "codemirror_mode": {
    "name": "ipython",
    "version": 3
   },
   "file_extension": ".py",
   "mimetype": "text/x-python",
   "name": "python",
   "nbconvert_exporter": "python",
   "pygments_lexer": "ipython3",
   "version": "3.5.2"
  }
 },
 "nbformat": 4,
 "nbformat_minor": 1
}
